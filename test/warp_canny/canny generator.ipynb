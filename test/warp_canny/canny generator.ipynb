{
 "cells": [
  {
   "cell_type": "code",
   "execution_count": 3,
   "metadata": {},
   "outputs": [],
   "source": [
    "from controlnet_aux.processor import Processor\n",
    "from diffusers.utils import load_image\n",
    "\n",
    "# options are:\n",
    "# [\"canny\", \"depth_leres\", \"depth_leres++\", \"depth_midas\", \"depth_zoe\", \"lineart_anime\",\n",
    "#  \"lineart_coarse\", \"lineart_realistic\", \"mediapipe_face\", \"mlsd\", \"normal_bae\", \"normal_midas\",\n",
    "#  \"openpose\", \"openpose_face\", \"openpose_faceonly\", \"openpose_full\", \"openpose_hand\",\n",
    "#  \"scribble_hed, \"scribble_pidinet\", \"shuffle\", \"softedge_hed\", \"softedge_hedsafe\",\n",
    "#  \"softedge_pidinet\", \"softedge_pidsafe\", \"dwpose\"]\n",
    "\n",
    "def controlnet_condition(img, processor_id):\n",
    "    processor = Processor(processor_id)\n",
    "\n",
    "    processed_image = processor(img, to_pil=True)\n",
    "    return processed_image"
   ]
  },
  {
   "cell_type": "code",
   "execution_count": 15,
   "metadata": {},
   "outputs": [],
   "source": [
    "warp_directory = \"C:/Users/tabatabaei/vision/dataset/VTON-HD/test/cloth-warp\"\n",
    "canny_directory = \"C:/Users/tabatabaei/vision/dataset/VTON-HD/test/canny\"\n",
    "new_size = (512, 512)"
   ]
  },
  {
   "cell_type": "code",
   "execution_count": 18,
   "metadata": {},
   "outputs": [],
   "source": [
    "import os\n",
    "\n",
    "for root, _, files in os.walk(warp_directory):\n",
    "    for file_name in files:\n",
    "        canny_image = controlnet_condition(\n",
    "            load_image(os.path.join(root, file_name)), \n",
    "            \"canny\"\n",
    "        )\n",
    "        canny_image.save(os.path.join(canny_directory, file_name))"
   ]
  }
 ],
 "metadata": {
  "kernelspec": {
   "display_name": "Python 3",
   "language": "python",
   "name": "python3"
  },
  "language_info": {
   "codemirror_mode": {
    "name": "ipython",
    "version": 3
   },
   "file_extension": ".py",
   "mimetype": "text/x-python",
   "name": "python",
   "nbconvert_exporter": "python",
   "pygments_lexer": "ipython3",
   "version": "3.10.13"
  }
 },
 "nbformat": 4,
 "nbformat_minor": 2
}
