{
  "cells": [
    {
      "cell_type": "markdown",
      "metadata": {
        "id": "4rcyVzspLcme"
      },
      "source": [
        "##Install the dependencies"
      ]
    },
    {
      "cell_type": "code",
      "execution_count": null,
      "metadata": {
        "colab": {
          "base_uri": "https://localhost:8080/",
          "height": 1000
        },
        "id": "k817Vkg9LGJK",
        "outputId": "fa1b439c-a542-491d-bf41-718369e2cba3"
      },
      "outputs": [
        {
          "name": "stdout",
          "output_type": "stream",
          "text": [
            "Requirement already satisfied: albumentations in /usr/local/lib/python3.10/dist-packages (1.3.1)\n",
            "Collecting diffusers\n",
            "  Using cached diffusers-0.26.3-py3-none-any.whl (1.9 MB)\n",
            "Collecting bezier\n",
            "  Using cached bezier-2023.7.28-cp310-cp310-manylinux_2_17_x86_64.manylinux2014_x86_64.whl (2.5 MB)\n",
            "Requirement already satisfied: opencv-python in /usr/local/lib/python3.10/dist-packages (4.8.0.76)\n",
            "Collecting pudb\n",
            "  Downloading pudb-2024.1.tar.gz (226 kB)\n",
            "\u001b[2K     \u001b[90m━━━━━━━━━━━━━━━━━━━━━━━━━━━━━━━━━━━━━━━━\u001b[0m \u001b[32m226.0/226.0 kB\u001b[0m \u001b[31m2.5 MB/s\u001b[0m eta \u001b[36m0:00:00\u001b[0m\n",
            "\u001b[?25h  Installing build dependencies ... \u001b[?25l\u001b[?25hdone\n",
            "  Getting requirements to build wheel ... \u001b[?25l\u001b[?25hdone\n",
            "  Preparing metadata (pyproject.toml) ... \u001b[?25l\u001b[?25hdone\n",
            "Collecting invisible-watermark\n",
            "  Using cached invisible_watermark-0.2.0-py3-none-any.whl (1.6 MB)\n",
            "Requirement already satisfied: imageio in /usr/local/lib/python3.10/dist-packages (2.31.6)\n",
            "Requirement already satisfied: imageio-ffmpeg in /usr/local/lib/python3.10/dist-packages (0.4.9)\n",
            "Collecting pytorch-lightning\n",
            "  Downloading pytorch_lightning-2.2.1-py3-none-any.whl (801 kB)\n",
            "\u001b[2K     \u001b[90m━━━━━━━━━━━━━━━━━━━━━━━━━━━━━━━━━━━━━━━━\u001b[0m \u001b[32m801.6/801.6 kB\u001b[0m \u001b[31m13.4 MB/s\u001b[0m eta \u001b[36m0:00:00\u001b[0m\n",
            "\u001b[?25hCollecting omegaconf\n",
            "  Downloading omegaconf-2.3.0-py3-none-any.whl (79 kB)\n",
            "\u001b[2K     \u001b[90m━━━━━━━━━━━━━━━━━━━━━━━━━━━━━━━━━━━━━━━━\u001b[0m \u001b[32m79.5/79.5 kB\u001b[0m \u001b[31m11.8 MB/s\u001b[0m eta \u001b[36m0:00:00\u001b[0m\n",
            "\u001b[?25hCollecting test-tube\n",
            "  Using cached test_tube-0.7.5.tar.gz (21 kB)\n",
            "  Preparing metadata (setup.py) ... \u001b[?25l\u001b[?25hdone\n",
            "Collecting streamlit\n",
            "  Using cached streamlit-1.31.1-py2.py3-none-any.whl (8.4 MB)\n",
            "Collecting einops\n",
            "  Downloading einops-0.7.0-py3-none-any.whl (44 kB)\n",
            "\u001b[2K     \u001b[90m━━━━━━━━━━━━━━━━━━━━━━━━━━━━━━━━━━━━━━━━\u001b[0m \u001b[32m44.6/44.6 kB\u001b[0m \u001b[31m6.6 MB/s\u001b[0m eta \u001b[36m0:00:00\u001b[0m\n",
            "\u001b[?25hCollecting torch-fidelity\n",
            "  Using cached torch_fidelity-0.3.0-py3-none-any.whl (37 kB)\n",
            "Requirement already satisfied: transformers in /usr/local/lib/python3.10/dist-packages (4.38.1)\n",
            "Collecting torchmetrics\n",
            "  Downloading torchmetrics-1.3.1-py3-none-any.whl (840 kB)\n",
            "\u001b[2K     \u001b[90m━━━━━━━━━━━━━━━━━━━━━━━━━━━━━━━━━━━━━━━━\u001b[0m \u001b[32m840.4/840.4 kB\u001b[0m \u001b[31m51.0 MB/s\u001b[0m eta \u001b[36m0:00:00\u001b[0m\n",
            "\u001b[?25hCollecting kornia\n",
            "  Downloading kornia-0.7.1-py2.py3-none-any.whl (756 kB)\n",
            "\u001b[2K     \u001b[90m━━━━━━━━━━━━━━━━━━━━━━━━━━━━━━━━━━━━━━━━\u001b[0m \u001b[32m756.0/756.0 kB\u001b[0m \u001b[31m48.0 MB/s\u001b[0m eta \u001b[36m0:00:00\u001b[0m\n",
            "\u001b[?25hRequirement already satisfied: numpy>=1.11.1 in /usr/local/lib/python3.10/dist-packages (from albumentations) (1.25.2)\n",
            "Requirement already satisfied: scipy>=1.1.0 in /usr/local/lib/python3.10/dist-packages (from albumentations) (1.11.4)\n",
            "Requirement already satisfied: scikit-image>=0.16.1 in /usr/local/lib/python3.10/dist-packages (from albumentations) (0.19.3)\n",
            "Requirement already satisfied: PyYAML in /usr/local/lib/python3.10/dist-packages (from albumentations) (6.0.1)\n",
            "Requirement already satisfied: qudida>=0.0.4 in /usr/local/lib/python3.10/dist-packages (from albumentations) (0.0.4)\n",
            "Requirement already satisfied: opencv-python-headless>=4.1.1 in /usr/local/lib/python3.10/dist-packages (from albumentations) (4.9.0.80)\n",
            "Requirement already satisfied: importlib-metadata in /usr/local/lib/python3.10/dist-packages (from diffusers) (7.0.1)\n",
            "Requirement already satisfied: filelock in /usr/local/lib/python3.10/dist-packages (from diffusers) (3.13.1)\n",
            "Requirement already satisfied: huggingface-hub>=0.20.2 in /usr/local/lib/python3.10/dist-packages (from diffusers) (0.20.3)\n",
            "Requirement already satisfied: regex!=2019.12.17 in /usr/local/lib/python3.10/dist-packages (from diffusers) (2023.12.25)\n",
            "Requirement already satisfied: requests in /usr/local/lib/python3.10/dist-packages (from diffusers) (2.31.0)\n",
            "Requirement already satisfied: safetensors>=0.3.1 in /usr/local/lib/python3.10/dist-packages (from diffusers) (0.4.2)\n",
            "Requirement already satisfied: Pillow in /usr/local/lib/python3.10/dist-packages (from diffusers) (9.4.0)\n",
            "Collecting urwid>=2.4 (from pudb)\n",
            "  Downloading urwid-2.6.8-py3-none-any.whl (295 kB)\n",
            "\u001b[2K     \u001b[90m━━━━━━━━━━━━━━━━━━━━━━━━━━━━━━━━━━━━━━━━\u001b[0m \u001b[32m295.4/295.4 kB\u001b[0m \u001b[31m27.9 MB/s\u001b[0m eta \u001b[36m0:00:00\u001b[0m\n",
            "\u001b[?25hRequirement already satisfied: pygments>=2.7.4 in /usr/local/lib/python3.10/dist-packages (from pudb) (2.16.1)\n",
            "Collecting jedi<1,>=0.18 (from pudb)\n",
            "  Downloading jedi-0.19.1-py2.py3-none-any.whl (1.6 MB)\n",
            "\u001b[2K     \u001b[90m━━━━━━━━━━━━━━━━━━━━━━━━━━━━━━━━━━━━━━━━\u001b[0m \u001b[32m1.6/1.6 MB\u001b[0m \u001b[31m67.6 MB/s\u001b[0m eta \u001b[36m0:00:00\u001b[0m\n",
            "\u001b[?25hCollecting urwid-readline (from pudb)\n",
            "  Downloading urwid_readline-0.14.tar.gz (9.0 kB)\n",
            "  Installing build dependencies ... \u001b[?25l\u001b[?25hdone\n",
            "  Getting requirements to build wheel ... \u001b[?25l\u001b[?25hdone\n",
            "  Preparing metadata (pyproject.toml) ... \u001b[?25l\u001b[?25hdone\n",
            "Requirement already satisfied: packaging>=20.0 in /usr/local/lib/python3.10/dist-packages (from pudb) (23.2)\n",
            "Requirement already satisfied: PyWavelets>=1.1.1 in /usr/local/lib/python3.10/dist-packages (from invisible-watermark) (1.5.0)\n",
            "Requirement already satisfied: torch in /usr/local/lib/python3.10/dist-packages (from invisible-watermark) (2.1.0+cu121)\n",
            "Requirement already satisfied: setuptools in /usr/local/lib/python3.10/dist-packages (from imageio-ffmpeg) (67.7.2)\n",
            "Requirement already satisfied: tqdm>=4.57.0 in /usr/local/lib/python3.10/dist-packages (from pytorch-lightning) (4.66.2)\n",
            "Requirement already satisfied: fsspec[http]>=2022.5.0 in /usr/local/lib/python3.10/dist-packages (from pytorch-lightning) (2023.6.0)\n",
            "Requirement already satisfied: typing-extensions>=4.4.0 in /usr/local/lib/python3.10/dist-packages (from pytorch-lightning) (4.10.0)\n",
            "Collecting lightning-utilities>=0.8.0 (from pytorch-lightning)\n",
            "  Downloading lightning_utilities-0.10.1-py3-none-any.whl (24 kB)\n",
            "Collecting antlr4-python3-runtime==4.9.* (from omegaconf)\n",
            "  Downloading antlr4-python3-runtime-4.9.3.tar.gz (117 kB)\n",
            "\u001b[2K     \u001b[90m━━━━━━━━━━━━━━━━━━━━━━━━━━━━━━━━━━━━━━━━\u001b[0m \u001b[32m117.0/117.0 kB\u001b[0m \u001b[31m18.7 MB/s\u001b[0m eta \u001b[36m0:00:00\u001b[0m\n",
            "\u001b[?25h  Preparing metadata (setup.py) ... \u001b[?25l\u001b[?25hdone\n",
            "Requirement already satisfied: pandas>=0.20.3 in /usr/local/lib/python3.10/dist-packages (from test-tube) (1.5.3)\n",
            "Requirement already satisfied: tensorboard>=1.15.0 in /usr/local/lib/python3.10/dist-packages (from test-tube) (2.15.2)\n",
            "Requirement already satisfied: future in /usr/local/lib/python3.10/dist-packages (from test-tube) (0.18.3)\n",
            "Requirement already satisfied: altair<6,>=4.0 in /usr/local/lib/python3.10/dist-packages (from streamlit) (4.2.2)\n",
            "Requirement already satisfied: blinker<2,>=1.0.0 in /usr/lib/python3/dist-packages (from streamlit) (1.4)\n",
            "Requirement already satisfied: cachetools<6,>=4.0 in /usr/local/lib/python3.10/dist-packages (from streamlit) (5.3.3)\n",
            "Requirement already satisfied: click<9,>=7.0 in /usr/local/lib/python3.10/dist-packages (from streamlit) (8.1.7)\n",
            "Requirement already satisfied: protobuf<5,>=3.20 in /usr/local/lib/python3.10/dist-packages (from streamlit) (3.20.3)\n",
            "Requirement already satisfied: pyarrow>=7.0 in /usr/local/lib/python3.10/dist-packages (from streamlit) (14.0.2)\n",
            "Requirement already satisfied: python-dateutil<3,>=2.7.3 in /usr/local/lib/python3.10/dist-packages (from streamlit) (2.8.2)\n",
            "Requirement already satisfied: rich<14,>=10.14.0 in /usr/local/lib/python3.10/dist-packages (from streamlit) (13.7.1)\n",
            "Requirement already satisfied: tenacity<9,>=8.1.0 in /usr/local/lib/python3.10/dist-packages (from streamlit) (8.2.3)\n",
            "Requirement already satisfied: toml<2,>=0.10.1 in /usr/local/lib/python3.10/dist-packages (from streamlit) (0.10.2)\n",
            "Requirement already satisfied: tzlocal<6,>=1.1 in /usr/local/lib/python3.10/dist-packages (from streamlit) (5.2)\n",
            "Collecting validators<1,>=0.2 (from streamlit)\n",
            "  Downloading validators-0.22.0-py3-none-any.whl (26 kB)\n",
            "Collecting gitpython!=3.1.19,<4,>=3.0.7 (from streamlit)\n",
            "  Downloading GitPython-3.1.42-py3-none-any.whl (195 kB)\n",
            "\u001b[2K     \u001b[90m━━━━━━━━━━━━━━━━━━━━━━━━━━━━━━━━━━━━━━━━\u001b[0m \u001b[32m195.4/195.4 kB\u001b[0m \u001b[31m29.6 MB/s\u001b[0m eta \u001b[36m0:00:00\u001b[0m\n",
            "\u001b[?25hCollecting pydeck<1,>=0.8.0b4 (from streamlit)\n",
            "  Downloading pydeck-0.8.1b0-py2.py3-none-any.whl (4.8 MB)\n",
            "\u001b[2K     \u001b[90m━━━━━━━━━━━━━━━━━━━━━━━━━━━━━━━━━━━━━━━━\u001b[0m \u001b[32m4.8/4.8 MB\u001b[0m \u001b[31m66.8 MB/s\u001b[0m eta \u001b[36m0:00:00\u001b[0m\n",
            "\u001b[?25hRequirement already satisfied: tornado<7,>=6.0.3 in /usr/local/lib/python3.10/dist-packages (from streamlit) (6.3.2)\n",
            "Collecting watchdog>=2.1.5 (from streamlit)\n",
            "  Downloading watchdog-4.0.0-py3-none-manylinux2014_x86_64.whl (82 kB)\n",
            "\u001b[2K     \u001b[90m━━━━━━━━━━━━━━━━━━━━━━━━━━━━━━━━━━━━━━━━\u001b[0m \u001b[32m83.0/83.0 kB\u001b[0m \u001b[31m8.3 MB/s\u001b[0m eta \u001b[36m0:00:00\u001b[0m\n",
            "\u001b[?25hRequirement already satisfied: torchvision in /usr/local/lib/python3.10/dist-packages (from torch-fidelity) (0.16.0+cu121)\n",
            "Requirement already satisfied: tokenizers<0.19,>=0.14 in /usr/local/lib/python3.10/dist-packages (from transformers) (0.15.2)\n",
            "Requirement already satisfied: entrypoints in /usr/local/lib/python3.10/dist-packages (from altair<6,>=4.0->streamlit) (0.4)\n",
            "Requirement already satisfied: jinja2 in /usr/local/lib/python3.10/dist-packages (from altair<6,>=4.0->streamlit) (3.1.3)\n",
            "Requirement already satisfied: jsonschema>=3.0 in /usr/local/lib/python3.10/dist-packages (from altair<6,>=4.0->streamlit) (4.19.2)\n",
            "Requirement already satisfied: toolz in /usr/local/lib/python3.10/dist-packages (from altair<6,>=4.0->streamlit) (0.12.1)\n",
            "Requirement already satisfied: aiohttp!=4.0.0a0,!=4.0.0a1 in /usr/local/lib/python3.10/dist-packages (from fsspec[http]>=2022.5.0->pytorch-lightning) (3.9.3)\n",
            "Collecting gitdb<5,>=4.0.1 (from gitpython!=3.1.19,<4,>=3.0.7->streamlit)\n",
            "  Downloading gitdb-4.0.11-py3-none-any.whl (62 kB)\n",
            "\u001b[2K     \u001b[90m━━━━━━━━━━━━━━━━━━━━━━━━━━━━━━━━━━━━━━━━\u001b[0m \u001b[32m62.7/62.7 kB\u001b[0m \u001b[31m10.0 MB/s\u001b[0m eta \u001b[36m0:00:00\u001b[0m\n",
            "\u001b[?25hRequirement already satisfied: zipp>=0.5 in /usr/local/lib/python3.10/dist-packages (from importlib-metadata->diffusers) (3.17.0)\n",
            "Requirement already satisfied: parso<0.9.0,>=0.8.3 in /usr/local/lib/python3.10/dist-packages (from jedi<1,>=0.18->pudb) (0.8.3)\n",
            "Requirement already satisfied: pytz>=2020.1 in /usr/local/lib/python3.10/dist-packages (from pandas>=0.20.3->test-tube) (2023.4)\n",
            "Requirement already satisfied: six>=1.5 in /usr/local/lib/python3.10/dist-packages (from python-dateutil<3,>=2.7.3->streamlit) (1.16.0)\n",
            "Requirement already satisfied: scikit-learn>=0.19.1 in /usr/local/lib/python3.10/dist-packages (from qudida>=0.0.4->albumentations) (1.2.2)\n",
            "Requirement already satisfied: charset-normalizer<4,>=2 in /usr/local/lib/python3.10/dist-packages (from requests->diffusers) (3.3.2)\n",
            "Requirement already satisfied: idna<4,>=2.5 in /usr/local/lib/python3.10/dist-packages (from requests->diffusers) (3.6)\n",
            "Requirement already satisfied: urllib3<3,>=1.21.1 in /usr/local/lib/python3.10/dist-packages (from requests->diffusers) (2.0.7)\n",
            "Requirement already satisfied: certifi>=2017.4.17 in /usr/local/lib/python3.10/dist-packages (from requests->diffusers) (2024.2.2)\n",
            "Requirement already satisfied: markdown-it-py>=2.2.0 in /usr/local/lib/python3.10/dist-packages (from rich<14,>=10.14.0->streamlit) (3.0.0)\n",
            "Requirement already satisfied: networkx>=2.2 in /usr/local/lib/python3.10/dist-packages (from scikit-image>=0.16.1->albumentations) (3.2.1)\n",
            "Requirement already satisfied: tifffile>=2019.7.26 in /usr/local/lib/python3.10/dist-packages (from scikit-image>=0.16.1->albumentations) (2024.2.12)\n",
            "Requirement already satisfied: absl-py>=0.4 in /usr/local/lib/python3.10/dist-packages (from tensorboard>=1.15.0->test-tube) (1.4.0)\n",
            "Requirement already satisfied: grpcio>=1.48.2 in /usr/local/lib/python3.10/dist-packages (from tensorboard>=1.15.0->test-tube) (1.62.0)\n",
            "Requirement already satisfied: google-auth<3,>=1.6.3 in /usr/local/lib/python3.10/dist-packages (from tensorboard>=1.15.0->test-tube) (2.27.0)\n",
            "Requirement already satisfied: google-auth-oauthlib<2,>=0.5 in /usr/local/lib/python3.10/dist-packages (from tensorboard>=1.15.0->test-tube) (1.2.0)\n",
            "Requirement already satisfied: markdown>=2.6.8 in /usr/local/lib/python3.10/dist-packages (from tensorboard>=1.15.0->test-tube) (3.5.2)\n",
            "Requirement already satisfied: tensorboard-data-server<0.8.0,>=0.7.0 in /usr/local/lib/python3.10/dist-packages (from tensorboard>=1.15.0->test-tube) (0.7.2)\n",
            "Requirement already satisfied: werkzeug>=1.0.1 in /usr/local/lib/python3.10/dist-packages (from tensorboard>=1.15.0->test-tube) (3.0.1)\n",
            "Requirement already satisfied: sympy in /usr/local/lib/python3.10/dist-packages (from torch->invisible-watermark) (1.12)\n",
            "Requirement already satisfied: triton==2.1.0 in /usr/local/lib/python3.10/dist-packages (from torch->invisible-watermark) (2.1.0)\n",
            "Requirement already satisfied: wcwidth in /usr/local/lib/python3.10/dist-packages (from urwid>=2.4->pudb) (0.2.13)\n",
            "Requirement already satisfied: aiosignal>=1.1.2 in /usr/local/lib/python3.10/dist-packages (from aiohttp!=4.0.0a0,!=4.0.0a1->fsspec[http]>=2022.5.0->pytorch-lightning) (1.3.1)\n",
            "Requirement already satisfied: attrs>=17.3.0 in /usr/local/lib/python3.10/dist-packages (from aiohttp!=4.0.0a0,!=4.0.0a1->fsspec[http]>=2022.5.0->pytorch-lightning) (23.2.0)\n",
            "Requirement already satisfied: frozenlist>=1.1.1 in /usr/local/lib/python3.10/dist-packages (from aiohttp!=4.0.0a0,!=4.0.0a1->fsspec[http]>=2022.5.0->pytorch-lightning) (1.4.1)\n",
            "Requirement already satisfied: multidict<7.0,>=4.5 in /usr/local/lib/python3.10/dist-packages (from aiohttp!=4.0.0a0,!=4.0.0a1->fsspec[http]>=2022.5.0->pytorch-lightning) (6.0.5)\n",
            "Requirement already satisfied: yarl<2.0,>=1.0 in /usr/local/lib/python3.10/dist-packages (from aiohttp!=4.0.0a0,!=4.0.0a1->fsspec[http]>=2022.5.0->pytorch-lightning) (1.9.4)\n",
            "Requirement already satisfied: async-timeout<5.0,>=4.0 in /usr/local/lib/python3.10/dist-packages (from aiohttp!=4.0.0a0,!=4.0.0a1->fsspec[http]>=2022.5.0->pytorch-lightning) (4.0.3)\n",
            "Collecting smmap<6,>=3.0.1 (from gitdb<5,>=4.0.1->gitpython!=3.1.19,<4,>=3.0.7->streamlit)\n",
            "  Downloading smmap-5.0.1-py3-none-any.whl (24 kB)\n",
            "Requirement already satisfied: pyasn1-modules>=0.2.1 in /usr/local/lib/python3.10/dist-packages (from google-auth<3,>=1.6.3->tensorboard>=1.15.0->test-tube) (0.3.0)\n",
            "Requirement already satisfied: rsa<5,>=3.1.4 in /usr/local/lib/python3.10/dist-packages (from google-auth<3,>=1.6.3->tensorboard>=1.15.0->test-tube) (4.9)\n",
            "Requirement already satisfied: requests-oauthlib>=0.7.0 in /usr/local/lib/python3.10/dist-packages (from google-auth-oauthlib<2,>=0.5->tensorboard>=1.15.0->test-tube) (1.3.1)\n",
            "Requirement already satisfied: MarkupSafe>=2.0 in /usr/local/lib/python3.10/dist-packages (from jinja2->altair<6,>=4.0->streamlit) (2.1.5)\n",
            "Requirement already satisfied: jsonschema-specifications>=2023.03.6 in /usr/local/lib/python3.10/dist-packages (from jsonschema>=3.0->altair<6,>=4.0->streamlit) (2023.12.1)\n",
            "Requirement already satisfied: referencing>=0.28.4 in /usr/local/lib/python3.10/dist-packages (from jsonschema>=3.0->altair<6,>=4.0->streamlit) (0.33.0)\n",
            "Requirement already satisfied: rpds-py>=0.7.1 in /usr/local/lib/python3.10/dist-packages (from jsonschema>=3.0->altair<6,>=4.0->streamlit) (0.18.0)\n",
            "Requirement already satisfied: mdurl~=0.1 in /usr/local/lib/python3.10/dist-packages (from markdown-it-py>=2.2.0->rich<14,>=10.14.0->streamlit) (0.1.2)\n",
            "Requirement already satisfied: joblib>=1.1.1 in /usr/local/lib/python3.10/dist-packages (from scikit-learn>=0.19.1->qudida>=0.0.4->albumentations) (1.3.2)\n",
            "Requirement already satisfied: threadpoolctl>=2.0.0 in /usr/local/lib/python3.10/dist-packages (from scikit-learn>=0.19.1->qudida>=0.0.4->albumentations) (3.3.0)\n",
            "Requirement already satisfied: mpmath>=0.19 in /usr/local/lib/python3.10/dist-packages (from sympy->torch->invisible-watermark) (1.3.0)\n",
            "Requirement already satisfied: pyasn1<0.6.0,>=0.4.6 in /usr/local/lib/python3.10/dist-packages (from pyasn1-modules>=0.2.1->google-auth<3,>=1.6.3->tensorboard>=1.15.0->test-tube) (0.5.1)\n",
            "Requirement already satisfied: oauthlib>=3.0.0 in /usr/local/lib/python3.10/dist-packages (from requests-oauthlib>=0.7.0->google-auth-oauthlib<2,>=0.5->tensorboard>=1.15.0->test-tube) (3.2.2)\n",
            "Building wheels for collected packages: pudb, antlr4-python3-runtime, test-tube, urwid-readline\n",
            "  Building wheel for pudb (pyproject.toml) ... \u001b[?25l\u001b[?25hdone\n",
            "  Created wheel for pudb: filename=pudb-2024.1-py3-none-any.whl size=86977 sha256=cb78562fdf1f37cd16aafa1959f8d6ef63809694274a48cb10e9535cbc7efa2e\n",
            "  Stored in directory: /root/.cache/pip/wheels/85/b0/e1/c80361fa965f04b6da48bfb9721e6cd8c0310288e85cebc76a\n",
            "  Building wheel for antlr4-python3-runtime (setup.py) ... \u001b[?25l\u001b[?25hdone\n",
            "  Created wheel for antlr4-python3-runtime: filename=antlr4_python3_runtime-4.9.3-py3-none-any.whl size=144554 sha256=ead01784e9ef5fc5acb3bc04f4658c7bb327f619b08b25e9898e31192a0bcea9\n",
            "  Stored in directory: /root/.cache/pip/wheels/12/93/dd/1f6a127edc45659556564c5730f6d4e300888f4bca2d4c5a88\n",
            "  Building wheel for test-tube (setup.py) ... \u001b[?25l\u001b[?25hdone\n",
            "  Created wheel for test-tube: filename=test_tube-0.7.5-py3-none-any.whl size=25328 sha256=e1935f73cabb54b58681bb1c29ee4784fe85fd63e18dfa60b0799efeb0537fbe\n",
            "  Stored in directory: /root/.cache/pip/wheels/28/d4/8b/1aeb47c0dedd931b8e6aec55a8091864a69ac6f0adc5b12ea9\n",
            "  Building wheel for urwid-readline (pyproject.toml) ... \u001b[?25l\u001b[?25hdone\n",
            "  Created wheel for urwid-readline: filename=urwid_readline-0.14-py3-none-any.whl size=9208 sha256=102647d48b4becfe9487cb76df8e5ecca48b81f7ef2d07c5a02efa26f0e3b96a\n",
            "  Stored in directory: /root/.cache/pip/wheels/9e/a9/3b/e633b4c4bfdc0bc14ede89784d0fe18b21040dcc1cb9a28023\n",
            "Successfully built pudb antlr4-python3-runtime test-tube urwid-readline\n",
            "Installing collected packages: antlr4-python3-runtime, watchdog, validators, urwid, smmap, omegaconf, lightning-utilities, jedi, einops, bezier, urwid-readline, pydeck, gitdb, torchmetrics, pudb, kornia, invisible-watermark, gitpython, diffusers, torch-fidelity, pytorch-lightning, test-tube, streamlit\n",
            "Successfully installed antlr4-python3-runtime-4.9.3 bezier-2023.7.28 diffusers-0.26.3 einops-0.7.0 gitdb-4.0.11 gitpython-3.1.42 invisible-watermark-0.2.0 jedi-0.19.1 kornia-0.7.1 lightning-utilities-0.10.1 omegaconf-2.3.0 pudb-2024.1 pydeck-0.8.1b0 pytorch-lightning-2.2.1 smmap-5.0.1 streamlit-1.31.1 test-tube-0.7.5 torch-fidelity-0.3.0 torchmetrics-1.3.1 urwid-2.6.8 urwid-readline-0.14 validators-0.22.0 watchdog-4.0.0\n"
          ]
        },
        {
          "data": {
            "application/vnd.colab-display-data+json": {
              "id": "fbcee03ea0c4477d88eb918498a116ee",
              "pip_warning": {
                "packages": [
                  "pydevd_plugins"
                ]
              }
            }
          },
          "metadata": {},
          "output_type": "display_data"
        }
      ],
      "source": [
        "!pip install albumentations diffusers bezier opencv-python pudb invisible-watermark imageio imageio-ffmpeg pytorch-lightning omegaconf test-tube streamlit einops torch-fidelity transformers torchmetrics kornia"
      ]
    },
    {
      "cell_type": "code",
      "source": [
        "import cupy as cp\n",
        "cp.__version__()"
      ],
      "metadata": {
        "colab": {
          "base_uri": "https://localhost:8080/",
          "height": 159
        },
        "id": "DZSr53O4APms",
        "outputId": "9ad0b719-047b-4081-b0e9-416b24c1248f"
      },
      "execution_count": null,
      "outputs": [
        {
          "output_type": "error",
          "ename": "TypeError",
          "evalue": "'str' object is not callable",
          "traceback": [
            "\u001b[0;31m---------------------------------------------------------------------------\u001b[0m",
            "\u001b[0;31mTypeError\u001b[0m                                 Traceback (most recent call last)",
            "\u001b[0;32m<ipython-input-1-c3d0c0a4d3a6>\u001b[0m in \u001b[0;36m<cell line: 2>\u001b[0;34m()\u001b[0m\n\u001b[1;32m      1\u001b[0m \u001b[0;32mimport\u001b[0m \u001b[0mcupy\u001b[0m \u001b[0;32mas\u001b[0m \u001b[0mcp\u001b[0m\u001b[0;34m\u001b[0m\u001b[0;34m\u001b[0m\u001b[0m\n\u001b[0;32m----> 2\u001b[0;31m \u001b[0mcp\u001b[0m\u001b[0;34m.\u001b[0m\u001b[0m__version__\u001b[0m\u001b[0;34m(\u001b[0m\u001b[0;34m)\u001b[0m\u001b[0;34m\u001b[0m\u001b[0;34m\u001b[0m\u001b[0m\n\u001b[0m",
            "\u001b[0;31mTypeError\u001b[0m: 'str' object is not callable"
          ]
        }
      ]
    },
    {
      "cell_type": "code",
      "execution_count": null,
      "metadata": {
        "colab": {
          "base_uri": "https://localhost:8080/"
        },
        "id": "hLww7MfZLO3r",
        "outputId": "e1273869-ef36-4e25-c60d-e1f47d51343a"
      },
      "outputs": [
        {
          "name": "stdout",
          "output_type": "stream",
          "text": [
            "Obtaining taming-transformers from git+https://github.com/CompVis/taming-transformers.git@master#egg=taming-transformers\n",
            "  Cloning https://github.com/CompVis/taming-transformers.git (to revision master) to ./src/taming-transformers\n",
            "  Running command git clone --filter=blob:none --quiet https://github.com/CompVis/taming-transformers.git /content/src/taming-transformers\n",
            "  Resolved https://github.com/CompVis/taming-transformers.git to commit 3ba01b241669f5ade541ce990f7650a3b8f65318\n",
            "  Preparing metadata (setup.py) ... \u001b[?25l\u001b[?25hdone\n",
            "Requirement already satisfied: torch in /usr/local/lib/python3.10/dist-packages (from taming-transformers) (2.1.0+cu121)\n",
            "Requirement already satisfied: numpy in /usr/local/lib/python3.10/dist-packages (from taming-transformers) (1.25.2)\n",
            "Requirement already satisfied: tqdm in /usr/local/lib/python3.10/dist-packages (from taming-transformers) (4.66.2)\n",
            "Requirement already satisfied: filelock in /usr/local/lib/python3.10/dist-packages (from torch->taming-transformers) (3.13.1)\n",
            "Requirement already satisfied: typing-extensions in /usr/local/lib/python3.10/dist-packages (from torch->taming-transformers) (4.10.0)\n",
            "Requirement already satisfied: sympy in /usr/local/lib/python3.10/dist-packages (from torch->taming-transformers) (1.12)\n",
            "Requirement already satisfied: networkx in /usr/local/lib/python3.10/dist-packages (from torch->taming-transformers) (3.2.1)\n",
            "Requirement already satisfied: jinja2 in /usr/local/lib/python3.10/dist-packages (from torch->taming-transformers) (3.1.3)\n",
            "Requirement already satisfied: fsspec in /usr/local/lib/python3.10/dist-packages (from torch->taming-transformers) (2023.6.0)\n",
            "Requirement already satisfied: triton==2.1.0 in /usr/local/lib/python3.10/dist-packages (from torch->taming-transformers) (2.1.0)\n",
            "Requirement already satisfied: MarkupSafe>=2.0 in /usr/local/lib/python3.10/dist-packages (from jinja2->torch->taming-transformers) (2.1.5)\n",
            "Requirement already satisfied: mpmath>=0.19 in /usr/local/lib/python3.10/dist-packages (from sympy->torch->taming-transformers) (1.3.0)\n",
            "Installing collected packages: taming-transformers\n",
            "  Running setup.py develop for taming-transformers\n",
            "Successfully installed taming-transformers-0.0.1\n"
          ]
        }
      ],
      "source": [
        "!pip install -e git+https://github.com/CompVis/taming-transformers.git@master#egg=taming-transformers"
      ]
    },
    {
      "cell_type": "code",
      "execution_count": null,
      "metadata": {
        "colab": {
          "base_uri": "https://localhost:8080/"
        },
        "id": "CSV8YaGsLQi7",
        "outputId": "6d806676-51ee-4872-c204-819277fd516d"
      },
      "outputs": [
        {
          "name": "stdout",
          "output_type": "stream",
          "text": [
            "Obtaining clip from git+https://github.com/openai/CLIP.git@main#egg=clip\n",
            "  Cloning https://github.com/openai/CLIP.git (to revision main) to ./src/clip\n",
            "  Running command git clone --filter=blob:none --quiet https://github.com/openai/CLIP.git /content/src/clip\n",
            "  Resolved https://github.com/openai/CLIP.git to commit a1d071733d7111c9c014f024669f959182114e33\n",
            "  Preparing metadata (setup.py) ... \u001b[?25l\u001b[?25hdone\n",
            "Collecting ftfy (from clip)\n",
            "  Downloading ftfy-6.1.3-py3-none-any.whl (53 kB)\n",
            "\u001b[2K     \u001b[90m━━━━━━━━━━━━━━━━━━━━━━━━━━━━━━━━━━━━━━━━\u001b[0m \u001b[32m53.4/53.4 kB\u001b[0m \u001b[31m1.1 MB/s\u001b[0m eta \u001b[36m0:00:00\u001b[0m\n",
            "\u001b[?25hRequirement already satisfied: regex in /usr/local/lib/python3.10/dist-packages (from clip) (2023.12.25)\n",
            "Requirement already satisfied: tqdm in /usr/local/lib/python3.10/dist-packages (from clip) (4.66.2)\n",
            "Requirement already satisfied: torch in /usr/local/lib/python3.10/dist-packages (from clip) (2.1.0+cu121)\n",
            "Requirement already satisfied: torchvision in /usr/local/lib/python3.10/dist-packages (from clip) (0.16.0+cu121)\n",
            "Requirement already satisfied: wcwidth<0.3.0,>=0.2.12 in /usr/local/lib/python3.10/dist-packages (from ftfy->clip) (0.2.13)\n",
            "Requirement already satisfied: filelock in /usr/local/lib/python3.10/dist-packages (from torch->clip) (3.13.1)\n",
            "Requirement already satisfied: typing-extensions in /usr/local/lib/python3.10/dist-packages (from torch->clip) (4.10.0)\n",
            "Requirement already satisfied: sympy in /usr/local/lib/python3.10/dist-packages (from torch->clip) (1.12)\n",
            "Requirement already satisfied: networkx in /usr/local/lib/python3.10/dist-packages (from torch->clip) (3.2.1)\n",
            "Requirement already satisfied: jinja2 in /usr/local/lib/python3.10/dist-packages (from torch->clip) (3.1.3)\n",
            "Requirement already satisfied: fsspec in /usr/local/lib/python3.10/dist-packages (from torch->clip) (2023.6.0)\n",
            "Requirement already satisfied: triton==2.1.0 in /usr/local/lib/python3.10/dist-packages (from torch->clip) (2.1.0)\n",
            "Requirement already satisfied: numpy in /usr/local/lib/python3.10/dist-packages (from torchvision->clip) (1.25.2)\n",
            "Requirement already satisfied: requests in /usr/local/lib/python3.10/dist-packages (from torchvision->clip) (2.31.0)\n",
            "Requirement already satisfied: pillow!=8.3.*,>=5.3.0 in /usr/local/lib/python3.10/dist-packages (from torchvision->clip) (9.4.0)\n",
            "Requirement already satisfied: MarkupSafe>=2.0 in /usr/local/lib/python3.10/dist-packages (from jinja2->torch->clip) (2.1.5)\n",
            "Requirement already satisfied: charset-normalizer<4,>=2 in /usr/local/lib/python3.10/dist-packages (from requests->torchvision->clip) (3.3.2)\n",
            "Requirement already satisfied: idna<4,>=2.5 in /usr/local/lib/python3.10/dist-packages (from requests->torchvision->clip) (3.6)\n",
            "Requirement already satisfied: urllib3<3,>=1.21.1 in /usr/local/lib/python3.10/dist-packages (from requests->torchvision->clip) (2.0.7)\n",
            "Requirement already satisfied: certifi>=2017.4.17 in /usr/local/lib/python3.10/dist-packages (from requests->torchvision->clip) (2024.2.2)\n",
            "Requirement already satisfied: mpmath>=0.19 in /usr/local/lib/python3.10/dist-packages (from sympy->torch->clip) (1.3.0)\n",
            "Installing collected packages: ftfy, clip\n",
            "  Running setup.py develop for clip\n",
            "Successfully installed clip-1.0 ftfy-6.1.3\n"
          ]
        }
      ],
      "source": [
        "!pip install -e git+https://github.com/openai/CLIP.git@main#egg=clip"
      ]
    },
    {
      "cell_type": "markdown",
      "metadata": {
        "id": "9nqX4ZXdLlXR"
      },
      "source": [
        "##Clone the Git repositories"
      ]
    },
    {
      "cell_type": "code",
      "execution_count": null,
      "metadata": {
        "colab": {
          "base_uri": "https://localhost:8080/"
        },
        "id": "bK1ghQXALSIE",
        "outputId": "b6e4538e-009c-427c-c7af-d88e0575753c"
      },
      "outputs": [
        {
          "name": "stdout",
          "output_type": "stream",
          "text": [
            "Cloning into 'DCI-VTON-Virtual-Try-On'...\n",
            "remote: Enumerating objects: 152, done.\u001b[K\n",
            "remote: Counting objects: 100% (30/30), done.\u001b[K\n",
            "remote: Compressing objects: 100% (22/22), done.\u001b[K\n",
            "remote: Total 152 (delta 15), reused 15 (delta 7), pack-reused 122\u001b[K\n",
            "Receiving objects: 100% (152/152), 5.93 MiB | 20.92 MiB/s, done.\n",
            "Resolving deltas: 100% (37/37), done.\n"
          ]
        }
      ],
      "source": [
        "!git clone https://github.com/NegarMov/DCI-VTON-Virtual-Try-On"
      ]
    },
    {
      "cell_type": "code",
      "execution_count": null,
      "metadata": {
        "colab": {
          "base_uri": "https://localhost:8080/"
        },
        "id": "rIAi98irLblT",
        "outputId": "4e24a224-2d2c-4033-d743-648963e71c3e"
      },
      "outputs": [
        {
          "name": "stdout",
          "output_type": "stream",
          "text": [
            "Cloning into 'PF-AFN'...\n",
            "remote: Enumerating objects: 383, done.\u001b[K\n",
            "remote: Counting objects: 100% (159/159), done.\u001b[K\n",
            "remote: Compressing objects: 100% (64/64), done.\u001b[K\n",
            "remote: Total 383 (delta 117), reused 95 (delta 95), pack-reused 224\u001b[K\n",
            "Receiving objects: 100% (383/383), 4.46 MiB | 16.43 MiB/s, done.\n",
            "Resolving deltas: 100% (162/162), done.\n"
          ]
        }
      ],
      "source": [
        "!git clone https://github.com/geyuying/PF-AFN.git\n",
        "!cp -r DCI-VTON-Virtual-Try-On/warp/train/* PF-AFN/PF-AFN_train/\n",
        "!cp -r DCI-VTON-Virtual-Try-On/warp/test/* PF-AFN/PF-AFN_test/"
      ]
    },
    {
      "cell_type": "code",
      "execution_count": null,
      "metadata": {
        "id": "sVSxBN9W1lfm"
      },
      "outputs": [],
      "source": [
        "f = '/content/PF-AFN/PF-AFN_test/models/correlation/correlation.py'\n",
        "\n",
        "with open(f, 'r') as file:\n",
        "  filedata = file.read()\n",
        "\n",
        "filedata = filedata.replace('@cupy.util.memoize', '@cupy._util.memoize')\n",
        "\n",
        "with open(f, 'w') as file:\n",
        "  file.write(filedata)"
      ]
    },
    {
      "cell_type": "markdown",
      "metadata": {
        "id": "YC4jElhQMwvQ"
      },
      "source": [
        "##Download the model's checkpoints"
      ]
    },
    {
      "cell_type": "code",
      "execution_count": null,
      "metadata": {
        "colab": {
          "base_uri": "https://localhost:8080/"
        },
        "id": "8pms-6nmMv4R",
        "outputId": "86778bd2-8d65-4238-a15f-f156435c8fb5"
      },
      "outputs": [
        {
          "name": "stdout",
          "output_type": "stream",
          "text": [
            "/content/PF-AFN/PF-AFN_test/checkpoints\n",
            "Downloading...\n",
            "From (original): https://drive.google.com/uc?id=1EY52bIpxMdf7YBRhkqaIx7aYx1F87E8n\n",
            "From (redirected): https://drive.google.com/uc?id=1EY52bIpxMdf7YBRhkqaIx7aYx1F87E8n&confirm=t&uuid=f78dc0d3-524f-46bf-a49e-4241dd816f87\n",
            "To: /content/PF-AFN/PF-AFN_test/checkpoints/warp_viton.pth\n",
            "100% 117M/117M [00:02<00:00, 43.7MB/s]\n"
          ]
        }
      ],
      "source": [
        "%cd PF-AFN/PF-AFN_test/checkpoints\n",
        "\n",
        "!gdown 1EY52bIpxMdf7YBRhkqaIx7aYx1F87E8n"
      ]
    },
    {
      "cell_type": "markdown",
      "metadata": {
        "id": "uTw9LTB4NjqX"
      },
      "source": [
        "##Run the test script"
      ]
    },
    {
      "cell_type": "code",
      "execution_count": null,
      "metadata": {
        "colab": {
          "background_save": true,
          "base_uri": "https://localhost:8080/"
        },
        "id": "_Iix-CpupH_i",
        "outputId": "00b22759-7639-4d53-efbd-011a7ac17bdc"
      },
      "outputs": [
        {
          "name": "stdout",
          "output_type": "stream",
          "text": [
            "--2024-03-06 12:03:25--  https://www.dropbox.com/s/10bfat0kg4si1bu/zalando-hd-resized.zip?e=1\n",
            "Resolving www.dropbox.com (www.dropbox.com)... 162.125.3.18, 2620:100:601b:18::a27d:812\n",
            "Connecting to www.dropbox.com (www.dropbox.com)|162.125.3.18|:443... connected.\n",
            "HTTP request sent, awaiting response... 302 Found\n",
            "Location: /s/raw/10bfat0kg4si1bu/zalando-hd-resized.zip [following]\n",
            "--2024-03-06 12:03:25--  https://www.dropbox.com/s/raw/10bfat0kg4si1bu/zalando-hd-resized.zip\n",
            "Reusing existing connection to www.dropbox.com:443.\n",
            "HTTP request sent, awaiting response... 302 Found\n",
            "Location: https://uc7b3d1c947578c668adb6e42aee.dl.dropboxusercontent.com/cd/0/inline/COlZnd8Uor0Tun7UyUUWBvyGcplPBmutYSskDCsMcltVL1wZ42VJzj8mrMEph3EzPGVtUb59l4WBUfgDuCDl8NO1NdpSXW4FK3WdbD7hrhdgiiSXiGzZwKQLLUIWYEKMVSc56omy14j7kBvhFrVbjAST/file# [following]\n",
            "--2024-03-06 12:03:26--  https://uc7b3d1c947578c668adb6e42aee.dl.dropboxusercontent.com/cd/0/inline/COlZnd8Uor0Tun7UyUUWBvyGcplPBmutYSskDCsMcltVL1wZ42VJzj8mrMEph3EzPGVtUb59l4WBUfgDuCDl8NO1NdpSXW4FK3WdbD7hrhdgiiSXiGzZwKQLLUIWYEKMVSc56omy14j7kBvhFrVbjAST/file\n",
            "Resolving uc7b3d1c947578c668adb6e42aee.dl.dropboxusercontent.com (uc7b3d1c947578c668adb6e42aee.dl.dropboxusercontent.com)... 162.125.3.15, 2620:100:6018:15::a27d:30f\n",
            "Connecting to uc7b3d1c947578c668adb6e42aee.dl.dropboxusercontent.com (uc7b3d1c947578c668adb6e42aee.dl.dropboxusercontent.com)|162.125.3.15|:443... connected.\n",
            "HTTP request sent, awaiting response... 302 Found\n",
            "Location: /cd/0/inline2/COl0UP7y7uKCcGt8jyVQc0GjNF27AdAGuZwfp7a861csnSWq8tSC886HG4Px8wVCnueSmjeCpNImHM0ABeRms1iY2JT-ODfvzh8KhFUXUQjIG8mHY5GjLSmBK5nZZyKfsFeJXYTvkTbzIRLTIgqYSQq2a5-68FbWIuuX91DsCZs2jzLBQyX22j3skJkFmdV0mflBl6pW4-u2Rd5AUGjyDkWT8xMmNFDRCVYx1w0EU0S9JUMe20sqT1tutHKFdAG9bM7KPeiwr8hS6ic1jgWLAE9IbM8bIWRlFUihoQXDC2k2LF4dXIPw76Ww1Px8T4XXKne20Us1WnAaTc0Xpm2oWUtf45hfkO9LZkswcZrC7jMrKmEvuFf-Soz2p6PGQrxLsgw/file [following]\n",
            "--2024-03-06 12:03:26--  https://uc7b3d1c947578c668adb6e42aee.dl.dropboxusercontent.com/cd/0/inline2/COl0UP7y7uKCcGt8jyVQc0GjNF27AdAGuZwfp7a861csnSWq8tSC886HG4Px8wVCnueSmjeCpNImHM0ABeRms1iY2JT-ODfvzh8KhFUXUQjIG8mHY5GjLSmBK5nZZyKfsFeJXYTvkTbzIRLTIgqYSQq2a5-68FbWIuuX91DsCZs2jzLBQyX22j3skJkFmdV0mflBl6pW4-u2Rd5AUGjyDkWT8xMmNFDRCVYx1w0EU0S9JUMe20sqT1tutHKFdAG9bM7KPeiwr8hS6ic1jgWLAE9IbM8bIWRlFUihoQXDC2k2LF4dXIPw76Ww1Px8T4XXKne20Us1WnAaTc0Xpm2oWUtf45hfkO9LZkswcZrC7jMrKmEvuFf-Soz2p6PGQrxLsgw/file\n",
            "Reusing existing connection to uc7b3d1c947578c668adb6e42aee.dl.dropboxusercontent.com:443.\n",
            "HTTP request sent, awaiting response... 200 OK\n",
            "Length: 4867271627 (4.5G) [application/zip]\n",
            "Saving to: ‘zalando-hd-resized.zip?e=1’\n",
            "\n",
            "zalando-hd-resized. 100%[===================>]   4.53G  24.3MB/s    in 3m 43s  \n",
            "\n",
            "2024-03-06 12:07:10 (20.8 MB/s) - ‘zalando-hd-resized.zip?e=1’ saved [4867271627/4867271627]\n",
            "\n"
          ]
        }
      ],
      "source": [
        "!wget https://www.dropbox.com/s/10bfat0kg4si1bu/zalando-hd-resized.zip?e=1&dl=1"
      ]
    },
    {
      "cell_type": "code",
      "execution_count": null,
      "metadata": {
        "colab": {
          "base_uri": "https://localhost:8080/"
        },
        "id": "ahVfW_qxf7rA",
        "outputId": "1dfbf4d6-361e-4e0e-f946-dc47d51eece4"
      },
      "outputs": [
        {
          "name": "stdout",
          "output_type": "stream",
          "text": [
            "Archive:  /content/vtonhd.zip\n",
            "   creating: /content/vtonhd/\n",
            "   creating: /content/vtonhd/cloth/\n",
            "  inflating: /content/vtonhd/cloth/00008_00.jpg  \n",
            "  inflating: /content/vtonhd/cloth/00035_00.jpg  \n",
            "  inflating: /content/vtonhd/cloth/00055_00.jpg  \n",
            "  inflating: /content/vtonhd/cloth/00057_00.jpg  \n",
            "  inflating: /content/vtonhd/cloth/00069_00.jpg  \n",
            "  inflating: /content/vtonhd/cloth/00071_00.jpg  \n",
            "  inflating: /content/vtonhd/cloth/00075_00.jpg  \n",
            "  inflating: /content/vtonhd/cloth/00126_00.jpg  \n",
            "  inflating: /content/vtonhd/cloth/00151_00.jpg  \n",
            "  inflating: /content/vtonhd/cloth/00260_00.jpg  \n",
            "  inflating: /content/vtonhd/cloth/00261_00.jpg  \n",
            "  inflating: /content/vtonhd/cloth/00273_00.jpg  \n",
            "  inflating: /content/vtonhd/cloth/00345_00.jpg  \n",
            "   creating: /content/vtonhd/cloth-mask/\n",
            "  inflating: /content/vtonhd/cloth-mask/00008_00.jpg  \n",
            "  inflating: /content/vtonhd/cloth-mask/00035_00.jpg  \n",
            "  inflating: /content/vtonhd/cloth-mask/00055_00.jpg  \n",
            "  inflating: /content/vtonhd/cloth-mask/00057_00.jpg  \n",
            "  inflating: /content/vtonhd/cloth-mask/00069_00.jpg  \n",
            "  inflating: /content/vtonhd/cloth-mask/00071_00.jpg  \n",
            "  inflating: /content/vtonhd/cloth-mask/00075_00.jpg  \n",
            "  inflating: /content/vtonhd/cloth-mask/00126_00.jpg  \n",
            "  inflating: /content/vtonhd/cloth-mask/00151_00.jpg  \n",
            "  inflating: /content/vtonhd/cloth-mask/00260_00.jpg  \n",
            "  inflating: /content/vtonhd/cloth-mask/00261_00.jpg  \n",
            "  inflating: /content/vtonhd/cloth-mask/00273_00.jpg  \n",
            "  inflating: /content/vtonhd/cloth-mask/00345_00.jpg  \n",
            "   creating: /content/vtonhd/image/\n",
            "  inflating: /content/vtonhd/image/00008_00.jpg  \n",
            "  inflating: /content/vtonhd/image/00035_00.jpg  \n",
            "  inflating: /content/vtonhd/image/00055_00.jpg  \n",
            "  inflating: /content/vtonhd/image/00057_00.jpg  \n",
            "  inflating: /content/vtonhd/image/00069_00.jpg  \n",
            "  inflating: /content/vtonhd/image/00071_00.jpg  \n",
            "  inflating: /content/vtonhd/image/00075_00.jpg  \n",
            "  inflating: /content/vtonhd/image/00126_00.jpg  \n",
            "  inflating: /content/vtonhd/image/00151_00.jpg  \n",
            "  inflating: /content/vtonhd/image/00260_00.jpg  \n",
            "  inflating: /content/vtonhd/image/00261_00.jpg  \n",
            "  inflating: /content/vtonhd/image/00273_00.jpg  \n",
            "  inflating: /content/vtonhd/image/00345_00.jpg  \n",
            "   creating: /content/vtonhd/image-densepose/\n",
            "  inflating: /content/vtonhd/image-densepose/00008_00.jpg  \n",
            "  inflating: /content/vtonhd/image-densepose/00035_00.jpg  \n",
            "  inflating: /content/vtonhd/image-densepose/00055_00.jpg  \n",
            "  inflating: /content/vtonhd/image-densepose/00057_00.jpg  \n",
            "  inflating: /content/vtonhd/image-densepose/00069_00.jpg  \n",
            "  inflating: /content/vtonhd/image-densepose/00071_00.jpg  \n",
            "  inflating: /content/vtonhd/image-densepose/00075_00.jpg  \n",
            "  inflating: /content/vtonhd/image-densepose/00126_00.jpg  \n",
            "  inflating: /content/vtonhd/image-densepose/00151_00.jpg  \n",
            "  inflating: /content/vtonhd/image-densepose/00260_00.jpg  \n",
            "  inflating: /content/vtonhd/image-densepose/00261_00.jpg  \n",
            "  inflating: /content/vtonhd/image-densepose/00273_00.jpg  \n",
            "  inflating: /content/vtonhd/image-densepose/00345_00.jpg  \n",
            "   creating: /content/vtonhd/image-parse-agnostic-v3.2/\n",
            "  inflating: /content/vtonhd/image-parse-agnostic-v3.2/00008_00.png  \n",
            "  inflating: /content/vtonhd/image-parse-agnostic-v3.2/00035_00.png  \n",
            "  inflating: /content/vtonhd/image-parse-agnostic-v3.2/00055_00.png  \n",
            "  inflating: /content/vtonhd/image-parse-agnostic-v3.2/00057_00.png  \n",
            "  inflating: /content/vtonhd/image-parse-agnostic-v3.2/00069_00.png  \n",
            "  inflating: /content/vtonhd/image-parse-agnostic-v3.2/00071_00.png  \n",
            "  inflating: /content/vtonhd/image-parse-agnostic-v3.2/00075_00.png  \n",
            "  inflating: /content/vtonhd/image-parse-agnostic-v3.2/00126_00.png  \n",
            "  inflating: /content/vtonhd/image-parse-agnostic-v3.2/00151_00.png  \n",
            "  inflating: /content/vtonhd/image-parse-agnostic-v3.2/00260_00.png  \n",
            "  inflating: /content/vtonhd/image-parse-agnostic-v3.2/00261_00.png  \n",
            "  inflating: /content/vtonhd/image-parse-agnostic-v3.2/00273_00.png  \n",
            "  inflating: /content/vtonhd/image-parse-agnostic-v3.2/00345_00.png  \n"
          ]
        }
      ],
      "source": [
        "!unzip /content/vtonhd.zip -d /content"
      ]
    },
    {
      "cell_type": "code",
      "execution_count": null,
      "metadata": {
        "colab": {
          "base_uri": "https://localhost:8080/"
        },
        "id": "9_reYM7zTOqn",
        "outputId": "a7fba48c-69bc-4190-9ffb-51ea664500a1"
      },
      "outputs": [
        {
          "name": "stdout",
          "output_type": "stream",
          "text": [
            "/content/PF-AFN/PF-AFN_test\n"
          ]
        }
      ],
      "source": [
        "%cd .."
      ]
    },
    {
      "cell_type": "code",
      "execution_count": null,
      "metadata": {
        "colab": {
          "base_uri": "https://localhost:8080/"
        },
        "id": "qCFuBDtvNnNg",
        "outputId": "e5724a02-865a-4c38-c3c9-2ca29c710bfa"
      },
      "outputs": [
        {
          "name": "stdout",
          "output_type": "stream",
          "text": [
            "------------ Options -------------\n",
            "batchSize: 32\n",
            "data_type: 32\n",
            "dataroot: /content/vtonhd\n",
            "display_winsize: 512\n",
            "fineSize: 512\n",
            "gen_checkpoint: checkpoints/PFAFN/gen_model_final.pth\n",
            "gpu_ids: [0]\n",
            "input_nc: 3\n",
            "isTrain: False\n",
            "label_nc: 13\n",
            "loadSize: 512\n",
            "max_dataset_size: inf\n",
            "nThreads: 1\n",
            "name: cloth-warp\n",
            "no_flip: False\n",
            "norm: instance\n",
            "output_nc: 3\n",
            "phase: test\n",
            "resize_or_crop: none\n",
            "serial_batches: False\n",
            "tf_log: False\n",
            "unpaired: True\n",
            "use_dropout: False\n",
            "verbose: False\n",
            "warp_checkpoint: checkpoints/warp_viton.pth\n",
            "-------------- End ----------------\n",
            "#training images = 1\n",
            "/usr/local/lib/python3.10/dist-packages/cupy/cuda/compiler.py:464: UserWarning: cupy.cuda.compile_with_cache has been deprecated in CuPy v10, and will be removed in the future. Use cupy.RawModule or cupy.RawKernel instead.\n",
            "  warnings.warn(\n",
            "/usr/local/lib/python3.10/dist-packages/torch/functional.py:504: UserWarning: torch.meshgrid: in an upcoming release, it will be required to pass the indexing argument. (Triggered internally at ../aten/src/ATen/native/TensorShape.cpp:3526.)\n",
            "  return _VF.meshgrid(tensors, **kwargs)  # type: ignore[attr-defined]\n",
            "/usr/local/lib/python3.10/dist-packages/torch/nn/functional.py:4296: UserWarning: Default grid_sample and affine_grid behavior has changed to align_corners=False since 1.3.0. Please specify align_corners=True if the old behavior is desired. See the documentation of grid_sample for details.\n",
            "  warnings.warn(\n"
          ]
        }
      ],
      "source": [
        "!python -u eval_PBAFN_viton.py --name=cloth-warp --resize_or_crop=none --batchSize=32 --gpu_ids=0 \\\n",
        "  --warp_checkpoint=checkpoints/warp_viton.pth --label_nc=13 --dataroot=/content/vtonhd \\\n",
        "  --fineSize=512 --unpaired"
      ]
    }
  ],
  "metadata": {
    "accelerator": "GPU",
    "colab": {
      "gpuType": "T4",
      "provenance": []
    },
    "kernelspec": {
      "display_name": "Python 3",
      "name": "python3"
    },
    "language_info": {
      "name": "python"
    }
  },
  "nbformat": 4,
  "nbformat_minor": 0
}