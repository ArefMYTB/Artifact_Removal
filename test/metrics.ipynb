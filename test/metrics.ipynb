{
  "nbformat": 4,
  "nbformat_minor": 0,
  "metadata": {
    "colab": {
      "provenance": [],
      "gpuType": "T4"
    },
    "kernelspec": {
      "name": "python3",
      "display_name": "Python 3"
    },
    "language_info": {
      "name": "python"
    },
    "accelerator": "GPU"
  },
  "cells": [
    {
      "cell_type": "markdown",
      "source": [
        "### Define the constants"
      ],
      "metadata": {
        "id": "FWYbLE4tP3dY"
      }
    },
    {
      "cell_type": "code",
      "source": [
        "GEN_DIR = \"/content/GEN\"\n",
        "GT_DIR = \"/content/GT\"\n",
        "DISTORTED_DIR  = \"/content/DISTORTED\"\n",
        "BATCH_SIZE = 1"
      ],
      "metadata": {
        "id": "MsoQ61QYO-7E"
      },
      "execution_count": null,
      "outputs": []
    },
    {
      "cell_type": "code",
      "source": [
        "new_size = (384, 512)"
      ],
      "metadata": {
        "id": "TPH5WXVF4RrE"
      },
      "execution_count": null,
      "outputs": []
    },
    {
      "cell_type": "code",
      "source": [
        "image_path = \"/content/GT/06648_00.png\""
      ],
      "metadata": {
        "id": "DkjWcEyV4c2h"
      },
      "execution_count": null,
      "outputs": []
    },
    {
      "cell_type": "code",
      "source": [
        "image = Image.open(image_path).resize(new_size)\n",
        "image.save(image_path)"
      ],
      "metadata": {
        "id": "Uhw1xdw45Yv3"
      },
      "execution_count": null,
      "outputs": []
    },
    {
      "cell_type": "code",
      "source": [
        "import os\n",
        "\n",
        "input_folder = GEN_DIR\n",
        "files = os.listdir(input_folder)\n",
        "\n",
        "for file in files:\n",
        "    # Check if the file is an image (you can add more image file extensions if needed)\n",
        "    if file.lower().endswith(('.png', '.jpg', '.jpeg', '.gif')):\n",
        "        input_path = os.path.join(input_folder, file)\n",
        "\n",
        "        # Open the image file\n",
        "        original_image = Image.open(input_path)\n",
        "\n",
        "        # Resize the image\n",
        "        resized_image = original_image.resize(new_size)\n",
        "\n",
        "        # Save the resized image, replacing the original file\n",
        "        resized_image.save(input_path)\n",
        "        print(f\"Resized and replaced: {input_path}\")"
      ],
      "metadata": {
        "id": "CrjlUWmg7T3w",
        "colab": {
          "base_uri": "https://localhost:8080/"
        },
        "outputId": "d5899d3d-a5e6-4241-d9d1-672e03a6c8d0"
      },
      "execution_count": null,
      "outputs": [
        {
          "output_type": "stream",
          "name": "stdout",
          "text": [
            "Resized and replaced: /content/GEN/00013_00_00013_00_0.jpg\n",
            "Resized and replaced: /content/GEN/00428_00_00428_00_0.jpg\n",
            "Resized and replaced: /content/GEN/00126_00_00126_00_0.jpg\n",
            "Resized and replaced: /content/GEN/04559_00_04559_00_0.jpg\n",
            "Resized and replaced: /content/GEN/00017_00_00017_00_0.jpg\n",
            "Resized and replaced: /content/GEN/00145_00_00145_00_0.jpg\n",
            "Resized and replaced: /content/GEN/00468_00_00468_00_0.jpg\n",
            "Resized and replaced: /content/GEN/04611_00_04611_00_0.jpg\n",
            "Resized and replaced: /content/GEN/04488_00_04488_00_0.jpg\n",
            "Resized and replaced: /content/GEN/00158_00_00158_00_0.jpg\n",
            "Resized and replaced: /content/GEN/00055_00_00055_00_0.jpg\n",
            "Resized and replaced: /content/GEN/00008_00_00008_00_6.jpg\n",
            "Resized and replaced: /content/GEN/04493_00_04493_00_0.jpg\n",
            "Resized and replaced: /content/GEN/05857_00_05857_00_0.jpg\n",
            "Resized and replaced: /content/GEN/00311_00_00311_00_0.jpg\n",
            "Resized and replaced: /content/GEN/04615_00_04615_00_0.jpg\n",
            "Resized and replaced: /content/GEN/06437_00_06437_00_0.jpg\n",
            "Resized and replaced: /content/GEN/06567_00_06567_00_0.jpg\n",
            "Resized and replaced: /content/GEN/00286_00_00286_00_0.jpg\n",
            "Resized and replaced: /content/GEN/04632_00_04632_00_0.jpg\n",
            "Resized and replaced: /content/GEN/04393_00_04393_00_0.jpg\n",
            "Resized and replaced: /content/GEN/05830_00_05830_00_0.jpg\n",
            "Resized and replaced: /content/GEN/00151_00_00151_00_0.jpg\n",
            "Resized and replaced: /content/GEN/00006_00_00006_00_0.jpg\n",
            "Resized and replaced: /content/GEN/00401_00_00401_00_0.jpg\n",
            "Resized and replaced: /content/GEN/00095_00_00095_00_0.jpg\n"
          ]
        }
      ]
    },
    {
      "cell_type": "markdown",
      "source": [
        "### Import the required packages"
      ],
      "metadata": {
        "id": "Zzd1HK56rXVU"
      }
    },
    {
      "cell_type": "code",
      "source": [
        "!pip install torchmetrics clean-fid torch-fidelity"
      ],
      "metadata": {
        "id": "8Z5_Gyl2rD-B",
        "colab": {
          "base_uri": "https://localhost:8080/"
        },
        "outputId": "3ff511b6-50ad-48b4-de77-5f8c9ffd032c"
      },
      "execution_count": null,
      "outputs": [
        {
          "output_type": "stream",
          "name": "stdout",
          "text": [
            "Collecting torchmetrics\n",
            "  Downloading torchmetrics-1.3.1-py3-none-any.whl (840 kB)\n",
            "\u001b[?25l     \u001b[90m━━━━━━━━━━━━━━━━━━━━━━━━━━━━━━━━━━━━━━━━\u001b[0m \u001b[32m0.0/840.4 kB\u001b[0m \u001b[31m?\u001b[0m eta \u001b[36m-:--:--\u001b[0m\r\u001b[2K     \u001b[91m━━━━━━━━━━━━━━━━━━━\u001b[0m\u001b[90m╺\u001b[0m\u001b[90m━━━━━━━━━━━━━━━━━━━━\u001b[0m \u001b[32m399.4/840.4 kB\u001b[0m \u001b[31m11.7 MB/s\u001b[0m eta \u001b[36m0:00:01\u001b[0m\r\u001b[2K     \u001b[90m━━━━━━━━━━━━━━━━━━━━━━━━━━━━━━━━━━━━━━━━\u001b[0m \u001b[32m840.4/840.4 kB\u001b[0m \u001b[31m17.9 MB/s\u001b[0m eta \u001b[36m0:00:00\u001b[0m\n",
            "\u001b[?25hCollecting clean-fid\n",
            "  Downloading clean_fid-0.1.35-py3-none-any.whl (26 kB)\n",
            "Collecting torch-fidelity\n",
            "  Downloading torch_fidelity-0.3.0-py3-none-any.whl (37 kB)\n",
            "Requirement already satisfied: numpy>1.20.0 in /usr/local/lib/python3.10/dist-packages (from torchmetrics) (1.25.2)\n",
            "Requirement already satisfied: packaging>17.1 in /usr/local/lib/python3.10/dist-packages (from torchmetrics) (23.2)\n",
            "Requirement already satisfied: torch>=1.10.0 in /usr/local/lib/python3.10/dist-packages (from torchmetrics) (2.1.0+cu121)\n",
            "Collecting lightning-utilities>=0.8.0 (from torchmetrics)\n",
            "  Downloading lightning_utilities-0.10.1-py3-none-any.whl (24 kB)\n",
            "Requirement already satisfied: torchvision in /usr/local/lib/python3.10/dist-packages (from clean-fid) (0.16.0+cu121)\n",
            "Requirement already satisfied: scipy>=1.0.1 in /usr/local/lib/python3.10/dist-packages (from clean-fid) (1.11.4)\n",
            "Requirement already satisfied: tqdm>=4.28.1 in /usr/local/lib/python3.10/dist-packages (from clean-fid) (4.66.2)\n",
            "Requirement already satisfied: pillow>=8.1 in /usr/local/lib/python3.10/dist-packages (from clean-fid) (9.4.0)\n",
            "Requirement already satisfied: requests in /usr/local/lib/python3.10/dist-packages (from clean-fid) (2.31.0)\n",
            "Requirement already satisfied: setuptools in /usr/local/lib/python3.10/dist-packages (from lightning-utilities>=0.8.0->torchmetrics) (67.7.2)\n",
            "Requirement already satisfied: typing-extensions in /usr/local/lib/python3.10/dist-packages (from lightning-utilities>=0.8.0->torchmetrics) (4.10.0)\n",
            "Requirement already satisfied: filelock in /usr/local/lib/python3.10/dist-packages (from torch>=1.10.0->torchmetrics) (3.13.1)\n",
            "Requirement already satisfied: sympy in /usr/local/lib/python3.10/dist-packages (from torch>=1.10.0->torchmetrics) (1.12)\n",
            "Requirement already satisfied: networkx in /usr/local/lib/python3.10/dist-packages (from torch>=1.10.0->torchmetrics) (3.2.1)\n",
            "Requirement already satisfied: jinja2 in /usr/local/lib/python3.10/dist-packages (from torch>=1.10.0->torchmetrics) (3.1.3)\n",
            "Requirement already satisfied: fsspec in /usr/local/lib/python3.10/dist-packages (from torch>=1.10.0->torchmetrics) (2023.6.0)\n",
            "Requirement already satisfied: triton==2.1.0 in /usr/local/lib/python3.10/dist-packages (from torch>=1.10.0->torchmetrics) (2.1.0)\n",
            "Requirement already satisfied: charset-normalizer<4,>=2 in /usr/local/lib/python3.10/dist-packages (from requests->clean-fid) (3.3.2)\n",
            "Requirement already satisfied: idna<4,>=2.5 in /usr/local/lib/python3.10/dist-packages (from requests->clean-fid) (3.6)\n",
            "Requirement already satisfied: urllib3<3,>=1.21.1 in /usr/local/lib/python3.10/dist-packages (from requests->clean-fid) (2.0.7)\n",
            "Requirement already satisfied: certifi>=2017.4.17 in /usr/local/lib/python3.10/dist-packages (from requests->clean-fid) (2024.2.2)\n",
            "Requirement already satisfied: MarkupSafe>=2.0 in /usr/local/lib/python3.10/dist-packages (from jinja2->torch>=1.10.0->torchmetrics) (2.1.5)\n",
            "Requirement already satisfied: mpmath>=0.19 in /usr/local/lib/python3.10/dist-packages (from sympy->torch>=1.10.0->torchmetrics) (1.3.0)\n",
            "Installing collected packages: lightning-utilities, torchmetrics, torch-fidelity, clean-fid\n",
            "Successfully installed clean-fid-0.1.35 lightning-utilities-0.10.1 torch-fidelity-0.3.0 torchmetrics-1.3.1\n"
          ]
        }
      ]
    },
    {
      "cell_type": "code",
      "execution_count": null,
      "metadata": {
        "id": "dQhQmyOjqqTC"
      },
      "outputs": [],
      "source": [
        "from PIL import Image\n",
        "import os\n",
        "from tqdm import tqdm\n",
        "from cleanfid import fid\n",
        "import torch\n",
        "from torch.utils.data import Dataset, DataLoader\n",
        "from torchmetrics.image import StructuralSimilarityIndexMeasure\n",
        "from torchmetrics.image.inception import InceptionScore\n",
        "from torchmetrics.image.lpip import LearnedPerceptualImagePatchSimilarity\n",
        "from torchvision import transforms"
      ]
    },
    {
      "cell_type": "markdown",
      "source": [
        "### Generate Dataloaders from the images"
      ],
      "metadata": {
        "id": "TUw9NX40Nrku"
      }
    },
    {
      "cell_type": "code",
      "source": [
        "from google.colab import drive\n",
        "drive.mount('/content/drive')"
      ],
      "metadata": {
        "id": "S6irXwhTzzUW"
      },
      "execution_count": null,
      "outputs": []
    },
    {
      "cell_type": "code",
      "source": [
        "class TestDataset(Dataset):\n",
        "  def __init__(self, root_dir, transform=None):\n",
        "    self.root_dir = root_dir\n",
        "    self.transform = transform\n",
        "    self.file_list = os.listdir(root_dir)\n",
        "\n",
        "  def __len__(self):\n",
        "    return len(self.file_list)\n",
        "\n",
        "  def __getitem__(self, idx):\n",
        "    file_name = self.file_list[idx]\n",
        "    file_path = os.path.join(self.root_dir, file_name)\n",
        "\n",
        "    img = Image.open(file_path)\n",
        "\n",
        "    if self.transform:\n",
        "        img = self.transform(img)\n",
        "\n",
        "    return img"
      ],
      "metadata": {
        "id": "L8uglbRFNxrH"
      },
      "execution_count": null,
      "outputs": []
    },
    {
      "cell_type": "code",
      "source": [
        "def get_loader(root_dir, batch_size, num_workers):\n",
        "  trans = transforms.Compose([\n",
        "    transforms.ToTensor(),\n",
        "  ])\n",
        "\n",
        "  dataset = TestDataset(root_dir, trans)\n",
        "\n",
        "  loader = DataLoader(dataset, batch_size=batch_size, shuffle=False, num_workers=num_workers)\n",
        "\n",
        "  return loader"
      ],
      "metadata": {
        "id": "oX3eLjG1O1nY"
      },
      "execution_count": null,
      "outputs": []
    },
    {
      "cell_type": "markdown",
      "source": [
        "### Prepare the metric classes"
      ],
      "metadata": {
        "id": "86618gl5u6-2"
      }
    },
    {
      "cell_type": "code",
      "source": [
        "device = 'cuda' if torch.cuda.is_available() else 'cpu'\n",
        "device"
      ],
      "metadata": {
        "colab": {
          "base_uri": "https://localhost:8080/",
          "height": 35
        },
        "id": "xra5sLBbu6Rb",
        "outputId": "15ab20ad-592e-4ea5-e97b-fdc1c93733f3"
      },
      "execution_count": null,
      "outputs": [
        {
          "output_type": "execute_result",
          "data": {
            "text/plain": [
              "'cuda'"
            ],
            "application/vnd.google.colaboratory.intrinsic+json": {
              "type": "string"
            }
          },
          "metadata": {},
          "execution_count": 9
        }
      ]
    },
    {
      "cell_type": "code",
      "source": [
        "model_is = InceptionScore(normalize=True).to(device)\n",
        "\n",
        "ssim = StructuralSimilarityIndexMeasure(data_range=1.0).to(device)\n",
        "\n",
        "lpips = LearnedPerceptualImagePatchSimilarity(net_type='alex', normalize=True).to(device)"
      ],
      "metadata": {
        "id": "hMeSREmGvUJs"
      },
      "execution_count": null,
      "outputs": []
    },
    {
      "cell_type": "markdown",
      "source": [
        "### Compute the metrics"
      ],
      "metadata": {
        "id": "aSMox3Mlw6dE"
      }
    },
    {
      "cell_type": "code",
      "source": [
        "def compute_metrics(folder1, folder2, batch_size):\n",
        "  # fid_score = fid.compute_fid(folder1, folder2, verbose=False)\n",
        "\n",
        "  kid_score = fid.compute_kid(folder1, folder2, verbose=False)\n",
        "\n",
        "  gt_loader = get_loader(folder1, batch_size, num_workers=2)\n",
        "  test_loader = get_loader(folder2, batch_size, num_workers=2)\n",
        "\n",
        "  for idx, (test_batch, gt_batch) in tqdm(enumerate(zip(gt_loader, test_loader)), total=len(gt_loader)):\n",
        "    test_images = test_batch\n",
        "    gt_images = gt_batch\n",
        "\n",
        "    test_images = test_images.to(device)\n",
        "    gt_images = gt_images.to(device)\n",
        "\n",
        "    model_is.update(test_images)\n",
        "\n",
        "    ssim.update(test_images, gt_images)\n",
        "\n",
        "    lpips.update(test_images, gt_images)\n",
        "\n",
        "  is_score, is_std = model_is.compute()\n",
        "\n",
        "  ssim_score = ssim.compute()\n",
        "\n",
        "  lpips_score = lpips.compute()\n",
        "\n",
        "  return {\n",
        "      # \"fid\":    fid_score,\n",
        "      \"kid\":    kid_score,\n",
        "      \"is\":     is_score.item(),\n",
        "      \"ssim\":   ssim_score.item(),\n",
        "      \"lpips\":  lpips_score.item(),\n",
        "  }"
      ],
      "metadata": {
        "id": "9EUDb0Q_rWdQ"
      },
      "execution_count": null,
      "outputs": []
    },
    {
      "cell_type": "code",
      "source": [
        "print(\"Computing the metrics for Generated-GT pairs...\")\n",
        "GEN_GT_metrics = compute_metrics(GEN_DIR, GT_DIR, BATCH_SIZE)\n",
        "print(GEN_GT_metrics)\n",
        "\n",
        "print(\"\\n-----------------------------\\n\")\n",
        "\n",
        "print(\"Computing the metrics for Distorted-GT pairs...\")\n",
        "DISTORTED_GT_metrics = compute_metrics(DISTORTED_DIR, GT_DIR, BATCH_SIZE)\n",
        "print(DISTORTED_GT_metrics)\n",
        "\n",
        "print(\"\\n-----------------------------\\n\")\n",
        "\n",
        "print(\"Improvement:\")\n",
        "improvement = {\n",
        "    # 'fid':    DISTORTED_GT_metrics['fid'] - GEN_GT_metrics['fid'],      # Lower is better\n",
        "    'kid':    DISTORTED_GT_metrics['kid'] - GEN_GT_metrics['kid'],      # Lower is better\n",
        "    'is':     GEN_GT_metrics['is'] - DISTORTED_GT_metrics['is'],        # Higher is better\n",
        "    'ssim':   GEN_GT_metrics['ssim'] - DISTORTED_GT_metrics['ssim'],    # Higher is better\n",
        "    'lpips':  DISTORTED_GT_metrics['lpips'] - GEN_GT_metrics['lpips'],  # Lower is better\n",
        "}\n",
        "print(improvement)"
      ],
      "metadata": {
        "colab": {
          "base_uri": "https://localhost:8080/"
        },
        "id": "AYhHixCiBofi",
        "outputId": "b6430e3c-3942-45ea-bfa4-714934f8b50f"
      },
      "execution_count": null,
      "outputs": [
        {
          "output_type": "stream",
          "name": "stdout",
          "text": [
            "Computing the metrics for Generated-GT pairs...\n"
          ]
        },
        {
          "output_type": "stream",
          "name": "stderr",
          "text": [
            "100%|██████████| 26/26 [00:00<00:00, 26.06it/s]\n"
          ]
        },
        {
          "output_type": "stream",
          "name": "stdout",
          "text": [
            "{'kid': -0.009359315842848605, 'is': 2.587279796600342, 'ssim': 0.610127329826355, 'lpips': 0.4599834680557251}\n",
            "\n",
            "-----------------------------\n",
            "\n",
            "Computing the metrics for Distorted-GT pairs...\n"
          ]
        },
        {
          "output_type": "stream",
          "name": "stderr",
          "text": [
            "100%|██████████| 30/30 [00:01<00:00, 26.16it/s]"
          ]
        },
        {
          "output_type": "stream",
          "name": "stdout",
          "text": [
            "{'kid': -0.007839400181094238, 'is': 2.834475040435791, 'ssim': 0.6053673624992371, 'lpips': 0.46821004152297974}\n",
            "\n",
            "-----------------------------\n",
            "\n",
            "Improvement:\n",
            "{'kid': 0.0015199156617543667, 'is': -0.24719524383544922, 'ssim': 0.00475996732711792, 'lpips': 0.008226573467254639}\n"
          ]
        },
        {
          "output_type": "stream",
          "name": "stderr",
          "text": [
            "\n"
          ]
        }
      ]
    }
  ]
}