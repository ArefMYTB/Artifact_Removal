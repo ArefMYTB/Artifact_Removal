{
  "nbformat": 4,
  "nbformat_minor": 0,
  "metadata": {
    "colab": {
      "provenance": [],
      "gpuType": "T4"
    },
    "kernelspec": {
      "name": "python3",
      "display_name": "Python 3"
    },
    "language_info": {
      "name": "python"
    },
    "accelerator": "GPU"
  },
  "cells": [
    {
      "cell_type": "markdown",
      "source": [
        "# 1. YOLO"
      ],
      "metadata": {
        "id": "T7TPNAH7ko-7"
      }
    },
    {
      "cell_type": "code",
      "source": [
        "from PIL import Image"
      ],
      "metadata": {
        "id": "VdpXxPxevLDj"
      },
      "execution_count": null,
      "outputs": []
    },
    {
      "cell_type": "code",
      "source": [
        "!pip install ultralytics"
      ],
      "metadata": {
        "id": "qlNu32Iayk5R"
      },
      "execution_count": null,
      "outputs": []
    },
    {
      "cell_type": "code",
      "source": [
        "!git clone https://github.com/Bing-su/adetailer"
      ],
      "metadata": {
        "id": "ipg6ioMGtrWi"
      },
      "execution_count": null,
      "outputs": []
    },
    {
      "cell_type": "code",
      "source": [
        "%cd /content/adetailer/"
      ],
      "metadata": {
        "colab": {
          "base_uri": "https://localhost:8080/"
        },
        "id": "uMOnAeaztx0p",
        "outputId": "5fb17460-c4bd-44f9-a6e4-023b9b021f5e"
      },
      "execution_count": null,
      "outputs": [
        {
          "output_type": "stream",
          "name": "stdout",
          "text": [
            "/content/adetailer\n"
          ]
        }
      ]
    },
    {
      "cell_type": "code",
      "source": [
        "from __future__ import annotations\n",
        "\n",
        "from pathlib import Path\n",
        "from typing import TYPE_CHECKING\n",
        "\n",
        "import cv2\n",
        "from PIL import Image\n",
        "from torchvision.transforms.functional import to_pil_image\n",
        "\n",
        "from adetailer import PredictOutput\n",
        "from adetailer.common import create_mask_from_bbox\n",
        "\n",
        "if TYPE_CHECKING:\n",
        "    import torch\n",
        "    from ultralytics import YOLO, YOLOWorld\n",
        "\n",
        "\n",
        "def ultralytics_predict(\n",
        "    model_path: str | Path,\n",
        "    image: Image.Image,\n",
        "    confidence: float = 0.3,\n",
        "    device: str = \"\",\n",
        "    classes: str = \"\",\n",
        ") -> PredictOutput:\n",
        "    from ultralytics import YOLO\n",
        "    model = YOLO(model_path)\n",
        "    apply_classes(model, model_path, classes)\n",
        "    pred = model(image, conf=confidence, device=device)\n",
        "\n",
        "    bboxes = pred[0].boxes.xyxy.cpu().numpy()\n",
        "    if bboxes.size == 0:\n",
        "        return PredictOutput()\n",
        "    bboxes = bboxes.tolist()\n",
        "\n",
        "    if pred[0].masks is None:\n",
        "        masks = create_mask_from_bbox(bboxes, image.size)\n",
        "    else:\n",
        "        masks = mask_to_pil(pred[0].masks.data, image.size)\n",
        "    preview = pred[0].plot()\n",
        "    preview = cv2.cvtColor(preview, cv2.COLOR_BGR2RGB)\n",
        "    preview = Image.fromarray(preview)\n",
        "    return masks\n",
        "\n",
        "\n",
        "\n",
        "def apply_classes(model: YOLO | YOLOWorld, model_path: str | Path, classes: str):\n",
        "    if not classes or \"-world\" not in Path(model_path).stem:\n",
        "        return\n",
        "    parsed = [c.strip() for c in classes.split(\",\") if c.strip()]\n",
        "    if parsed:\n",
        "        model.set_classes(parsed)\n",
        "\n",
        "\n",
        "def mask_to_pil(masks: torch.Tensor, shape: tuple[int, int]) -> list[Image.Image]:\n",
        "    \"\"\"\n",
        "    Parameters\n",
        "    ----------\n",
        "    masks: torch.Tensor, dtype=torch.float32, shape=(N, H, W).\n",
        "        The device can be CUDA, but `to_pil_image` takes care of that.\n",
        "\n",
        "    shape: tuple[int, int]\n",
        "        (W, H) of the original image\n",
        "    \"\"\"\n",
        "    n = masks.shape[0]\n",
        "    return [to_pil_image(masks[i], mode=\"L\").resize(shape) for i in range(n)]\n"
      ],
      "metadata": {
        "id": "wytYRDUm7GgP"
      },
      "execution_count": null,
      "outputs": []
    },
    {
      "cell_type": "code",
      "source": [
        "import pytest\n",
        "from huggingface_hub import hf_hub_download\n",
        "@pytest.mark.parametrize(\n",
        "    \"model_name\",\n",
        "    [\n",
        "        \"face_yolov8n.pt\",\n",
        "        \"face_yolov8n_v2.pt\",\n",
        "        \"face_yolov8s.pt\",\n",
        "        \"hand_yolov8n.pt\",\n",
        "        \"hand_yolov8s.pt\",\n",
        "        \"person_yolov8n-seg.pt\",\n",
        "        \"person_yolov8s-seg.pt\",\n",
        "        \"person_yolov8m-seg.pt\",\n",
        "        \"deepfashion2_yolov8s-seg.pt\",\n",
        "    ],\n",
        ")\n",
        "def test(sample_image: Image.Image, model_name: str, confidence: float):\n",
        "    model_path = hf_hub_download(\"Bingsu/adetailer\", model_name)\n",
        "    result = ultralytics_predict(model_path, sample_image, confidence)\n",
        "    return result\n",
        "    # assert result.preview is not None\n"
      ],
      "metadata": {
        "id": "6JPCYKgg7Ja3"
      },
      "execution_count": null,
      "outputs": []
    },
    {
      "cell_type": "code",
      "source": [
        "image = Image.open(\"1.png\")\n",
        "image"
      ],
      "metadata": {
        "id": "Bar2BdT28no-"
      },
      "execution_count": null,
      "outputs": []
    },
    {
      "cell_type": "code",
      "source": [
        "res = test(image, \"hand_yolov8s.pt\", 0.01)"
      ],
      "metadata": {
        "colab": {
          "base_uri": "https://localhost:8080/"
        },
        "id": "2WyrxyeS7WqR",
        "outputId": "47dbbefc-b3a7-4b07-8a40-9d9685f3e0cd"
      },
      "execution_count": null,
      "outputs": [
        {
          "output_type": "stream",
          "name": "stdout",
          "text": [
            "\n",
            "0: 640x480 3 hands, 559.7ms\n",
            "Speed: 4.7ms preprocess, 559.7ms inference, 1.2ms postprocess per image at shape (1, 3, 640, 480)\n"
          ]
        }
      ]
    },
    {
      "cell_type": "code",
      "source": [
        "res"
      ],
      "metadata": {
        "colab": {
          "base_uri": "https://localhost:8080/"
        },
        "id": "GnuO1lr59Stj",
        "outputId": "6a874a81-01b6-47a6-9c84-7888f3f10c9f"
      },
      "execution_count": null,
      "outputs": [
        {
          "output_type": "execute_result",
          "data": {
            "text/plain": [
              "[<PIL.Image.Image image mode=L size=768x1024>]"
            ]
          },
          "metadata": {},
          "execution_count": 79
        }
      ]
    },
    {
      "cell_type": "code",
      "source": [
        "res[1]"
      ],
      "metadata": {
        "colab": {
          "base_uri": "https://localhost:8080/",
          "height": 1000
        },
        "id": "jPOp7qfK7y_o",
        "outputId": "4788a23d-0f6f-4fc2-d71d-0209c9c862fc"
      },
      "execution_count": null,
      "outputs": [
        {
          "output_type": "execute_result",
          "data": {
            "text/plain": [
              "<PIL.Image.Image image mode=L size=768x1024>"
            ],
            "image/png": "[encoded data removed]"
          },
          "metadata": {},
          "execution_count": 17
        }
      ]
    },
    {
      "cell_type": "code",
      "source": [
        "%cd .."
      ],
      "metadata": {
        "colab": {
          "base_uri": "https://localhost:8080/"
        },
        "id": "fMsv3IbEBeO0",
        "outputId": "8e6715df-12d7-46c5-a188-6d73f0beaea2"
      },
      "execution_count": null,
      "outputs": [
        {
          "output_type": "stream",
          "name": "stdout",
          "text": [
            "/content\n"
          ]
        }
      ]
    },
    {
      "cell_type": "markdown",
      "source": [
        "another way"
      ],
      "metadata": {
        "id": "HpRdvOaVBa6g"
      }
    },
    {
      "cell_type": "code",
      "source": [
        "! git clone https://github.com/siriusdemon/hand-yolov5"
      ],
      "metadata": {
        "id": "-kVDgAe3BatW"
      },
      "execution_count": null,
      "outputs": []
    },
    {
      "cell_type": "code",
      "source": [
        "%cd hand-yolov5\n",
        "!python setup.py install"
      ],
      "metadata": {
        "id": "QprOtrNWBkBk"
      },
      "execution_count": null,
      "outputs": []
    },
    {
      "cell_type": "code",
      "source": [
        "!python demo.py \"/content/1.png\""
      ],
      "metadata": {
        "colab": {
          "base_uri": "https://localhost:8080/"
        },
        "id": "1uk40XmrBlTw",
        "outputId": "0c8471a6-1621-4964-b548-e64bc46a2de2"
      },
      "execution_count": null,
      "outputs": [
        {
          "output_type": "stream",
          "name": "stdout",
          "text": [
            "/usr/local/lib/python3.10/dist-packages/torch/amp/autocast_mode.py:250: UserWarning: User provided device_type of 'cuda', but CUDA is not available. Disabling\n",
            "  warnings.warn(\n",
            "/usr/local/lib/python3.10/dist-packages/torch/functional.py:504: UserWarning: torch.meshgrid: in an upcoming release, it will be required to pass the indexing argument. (Triggered internally at ../aten/src/ATen/native/TensorShape.cpp:3526.)\n",
            "  return _VF.meshgrid(tensors, **kwargs)  # type: ignore[attr-defined]\n",
            "Done!\n"
          ]
        }
      ]
    },
    {
      "cell_type": "markdown",
      "source": [
        "make it unrectangle"
      ],
      "metadata": {
        "id": "4WCwvv7zKlJg"
      }
    },
    {
      "cell_type": "code",
      "source": [
        "import cv2\n",
        "import numpy as np\n",
        "from PIL import Image, ImageDraw"
      ],
      "metadata": {
        "id": "EcAoC08lDXHw"
      },
      "execution_count": null,
      "outputs": []
    },
    {
      "cell_type": "code",
      "source": [
        "mask_image_pil = res[1]"
      ],
      "metadata": {
        "id": "Mj4wy8MLDkVe"
      },
      "execution_count": null,
      "outputs": []
    },
    {
      "cell_type": "code",
      "source": [
        "mask_image_pil.save(\"/content/0.png\", \"PNG\")"
      ],
      "metadata": {
        "id": "wrmIG4t_E116"
      },
      "execution_count": null,
      "outputs": []
    },
    {
      "cell_type": "code",
      "source": [
        "def find_rectangle_coordinates(image_path):\n",
        "    # Read the image\n",
        "    image = cv2.imread(image_path, cv2.IMREAD_GRAYSCALE)\n",
        "\n",
        "    # Find contours in the image\n",
        "    contours, _ = cv2.findContours(image, cv2.RETR_EXTERNAL, cv2.CHAIN_APPROX_SIMPLE)\n",
        "\n",
        "    # Find the contour with the largest area (assuming it's the rectangle)\n",
        "    max_contour = max(contours, key=cv2.contourArea)\n",
        "\n",
        "    # Get the bounding box coordinates\n",
        "    x, y, w, h = cv2.boundingRect(max_contour)\n",
        "\n",
        "    return x, y, w, h\n",
        "\n",
        "def add_circles_around_rectangle(image_path, num_circles=1000, circle_radius=8):\n",
        "    # Find rectangle coordinates\n",
        "    x, y, w, h = find_rectangle_coordinates(image_path)\n",
        "\n",
        "    # Load the image\n",
        "    image = Image.open(image_path).convert(\"RGBA\")\n",
        "\n",
        "    # Create a drawing object\n",
        "    draw = ImageDraw.Draw(image)\n",
        "\n",
        "    # Draw the white rectangle\n",
        "    draw.rectangle([x, y, x + w, y + h], fill=(255, 255, 255, 255))\n",
        "\n",
        "    # Add circles around the rectangle\n",
        "    for _ in range(num_circles):\n",
        "        center_x = np.random.randint(x - circle_radius, x + w + circle_radius)\n",
        "        center_y = np.random.randint(y - circle_radius, y + h + circle_radius)\n",
        "        draw.ellipse(\n",
        "            [\n",
        "                center_x - circle_radius,\n",
        "                center_y - circle_radius,\n",
        "                center_x + circle_radius,\n",
        "                center_y + circle_radius,\n",
        "            ],\n",
        "            fill=(255, 255, 255, 255),\n",
        "        )\n",
        "    return image"
      ],
      "metadata": {
        "id": "4LhUd4GNIoJM"
      },
      "execution_count": null,
      "outputs": []
    },
    {
      "cell_type": "code",
      "source": [
        "result = add_circles_around_rectangle(\"/content/0.png\")"
      ],
      "metadata": {
        "id": "oy-NWgLnIrV-"
      },
      "execution_count": null,
      "outputs": []
    },
    {
      "cell_type": "code",
      "source": [
        "result"
      ],
      "metadata": {
        "id": "CAExVTbrJBRs"
      },
      "execution_count": null,
      "outputs": []
    },
    {
      "cell_type": "markdown",
      "source": [
        "# 2. Palette"
      ],
      "metadata": {
        "id": "Vust1c0qksQn"
      }
    },
    {
      "cell_type": "code",
      "source": [
        "from PIL import Image\n",
        "from torchvision import transforms"
      ],
      "metadata": {
        "id": "TFr3eK4yiZuT"
      },
      "execution_count": null,
      "outputs": []
    },
    {
      "cell_type": "code",
      "source": [
        "def get_cond_color(cond_image, mask_size=64):\n",
        "    H, W = cond_image.size\n",
        "    cond_image = cond_image.resize((W // mask_size, H // mask_size), Image.BICUBIC)\n",
        "    color = cond_image.resize((H, W), Image.NEAREST)\n",
        "    return color"
      ],
      "metadata": {
        "id": "XmB41AEO1m42"
      },
      "execution_count": null,
      "outputs": []
    },
    {
      "cell_type": "code",
      "source": [
        "pil_image = Image.open(\"4.png\")"
      ],
      "metadata": {
        "id": "nXhkowOqi94B"
      },
      "execution_count": null,
      "outputs": []
    },
    {
      "cell_type": "code",
      "source": [
        "transform = transforms.Compose([\n",
        "    transforms.ToTensor(),\n",
        "    transforms.Normalize((0.5, 0.5, 0.5), (0.5, 0.5, 0.5))\n",
        "])\n",
        "\n",
        "palette = get_cond_color(pil_image, mask_size=32)\n",
        "\n",
        "\n",
        "palette"
      ],
      "metadata": {
        "colab": {
          "base_uri": "https://localhost:8080/",
          "height": 529
        },
        "id": "O28NXFfG2k8n",
        "outputId": "b3b50448-e9d5-4988-e640-4aa279523412"
      },
      "execution_count": null,
      "outputs": [
        {
          "output_type": "execute_result",
          "data": {
            "text/plain": [
              "<PIL.Image.Image image mode=RGB size=352x512>"
            ],
            "image/png": "[encoded data removed]"
          },
          "metadata": {},
          "execution_count": 72
        }
      ]
    },
    {
      "cell_type": "code",
      "source": [
        "palette.size"
      ],
      "metadata": {
        "colab": {
          "base_uri": "https://localhost:8080/"
        },
        "id": "vZdV-oljkL52",
        "outputId": "71ebb9e0-4e7e-4d1f-bf18-b1e595fb0e09"
      },
      "execution_count": null,
      "outputs": [
        {
          "output_type": "execute_result",
          "data": {
            "text/plain": [
              "(768, 1024)"
            ]
          },
          "metadata": {},
          "execution_count": 10
        }
      ]
    }
  ]
}